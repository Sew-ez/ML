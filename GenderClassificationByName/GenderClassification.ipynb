{
 "cells": [
  {
   "cell_type": "markdown",
   "metadata": {},
   "source": [
    "# Gender Classification"
   ]
  },
  {
   "cell_type": "markdown",
   "metadata": {},
   "source": [
    "### Training Code"
   ]
  },
  {
   "cell_type": "markdown",
   "metadata": {},
   "source": [
    "##### Import libraries"
   ]
  },
  {
   "cell_type": "code",
   "execution_count": 10,
   "metadata": {},
   "outputs": [],
   "source": [
    "from sklearn.model_selection import train_test_split\n",
    "from sklearn.feature_extraction.text import CountVectorizer\n",
    "from sklearn.feature_extraction import DictVectorizer\n",
    "from sklearn.naive_bayes import MultinomialNB\n",
    "import pandas as pd\n",
    "import numpy as np\n",
    "import joblib"
   ]
  },
  {
   "cell_type": "markdown",
   "metadata": {},
   "source": [
    "##### Prepare Dataset\n",
    "Data is located on Datasets/Names/combined.csv"
   ]
  },
  {
   "cell_type": "code",
   "execution_count": 11,
   "metadata": {},
   "outputs": [
    {
     "name": "stdout",
     "output_type": "stream",
     "text": [
      "Number of columns: Index(['name', 'gender'], dtype='object')\n",
      "Number of rows: 14654\n",
      "Columns data types : \n",
      "name      object\n",
      "gender    object\n",
      "dtype: object\n",
      "number of nulls : \n",
      "name      0\n",
      "gender    0\n",
      "dtype: int64\n",
      "Consisting of 6868 female and 7786 male names\n"
     ]
    },
    {
     "name": "stderr",
     "output_type": "stream",
     "text": [
      "C:\\Users\\Sindhu Khrisna\\AppData\\Local\\Temp\\ipykernel_34348\\2803554290.py:16: FutureWarning: Downcasting behavior in `replace` is deprecated and will be removed in a future version. To retain the old behavior, explicitly call `result.infer_objects(copy=False)`. To opt-in to the future behavior, set `pd.set_option('future.no_silent_downcasting', True)`\n",
      "  df_names['gender'] = df_names['gender'].replace({'f': 0, 'm': 1}).astype(int)\n"
     ]
    },
    {
     "data": {
      "text/html": [
       "<div>\n",
       "<style scoped>\n",
       "    .dataframe tbody tr th:only-of-type {\n",
       "        vertical-align: middle;\n",
       "    }\n",
       "\n",
       "    .dataframe tbody tr th {\n",
       "        vertical-align: top;\n",
       "    }\n",
       "\n",
       "    .dataframe thead th {\n",
       "        text-align: right;\n",
       "    }\n",
       "</style>\n",
       "<table border=\"1\" class=\"dataframe\">\n",
       "  <thead>\n",
       "    <tr style=\"text-align: right;\">\n",
       "      <th></th>\n",
       "      <th>name</th>\n",
       "      <th>gender</th>\n",
       "    </tr>\n",
       "  </thead>\n",
       "  <tbody>\n",
       "    <tr>\n",
       "      <th>0</th>\n",
       "      <td>hafizhan shidqi</td>\n",
       "      <td>1</td>\n",
       "    </tr>\n",
       "    <tr>\n",
       "      <th>1</th>\n",
       "      <td>gandhi wibowo</td>\n",
       "      <td>1</td>\n",
       "    </tr>\n",
       "    <tr>\n",
       "      <th>2</th>\n",
       "      <td>aldio mahendra purwandrarto</td>\n",
       "      <td>1</td>\n",
       "    </tr>\n",
       "    <tr>\n",
       "      <th>3</th>\n",
       "      <td>benny putra</td>\n",
       "      <td>1</td>\n",
       "    </tr>\n",
       "    <tr>\n",
       "      <th>4</th>\n",
       "      <td>vicky vernando dasta</td>\n",
       "      <td>1</td>\n",
       "    </tr>\n",
       "  </tbody>\n",
       "</table>\n",
       "</div>"
      ],
      "text/plain": [
       "                          name  gender\n",
       "0              hafizhan shidqi       1\n",
       "1                gandhi wibowo       1\n",
       "2  aldio mahendra purwandrarto       1\n",
       "3                  benny putra       1\n",
       "4         vicky vernando dasta       1"
      ]
     },
     "execution_count": 11,
     "metadata": {},
     "output_type": "execute_result"
    }
   ],
   "source": [
    "# Load dataset\n",
    "df = pd.read_csv(\"C:/Bangkit/ML/Datasets/Names/combine.csv\", encoding='cp1252')\n",
    "\n",
    "# Print all info about it\n",
    "print(f\"Number of columns: {df.columns}\")\n",
    "print(f\"Number of rows: {df.size}\")\n",
    "print(f\"Columns data types : \\n{df.dtypes}\")\n",
    "print(f\"number of nulls : \\n{df.isnull().isnull().sum()}\")\n",
    "print(f\"Consisting of {df[df.gender == 'f'].size} female and {df[df.gender == 'm'].size} male names\")\n",
    "df.head()\n",
    "\n",
    "# Drop all null values\n",
    "df_names = df.dropna().copy()\n",
    "\n",
    "# Replace gender (f/m) into integer (1/0)\n",
    "df_names['gender'] = df_names['gender'].replace({'f': 0, 'm': 1}).astype(int)\n",
    "\n",
    "# Check if gender is only either 1/0\n",
    "df_names['gender'].unique()\n",
    "df_names.head()"
   ]
  },
  {
   "cell_type": "markdown",
   "metadata": {},
   "source": [
    "##### Generating The Vectorizer"
   ]
  },
  {
   "cell_type": "code",
   "execution_count": 12,
   "metadata": {},
   "outputs": [],
   "source": [
    "Xfeatures = df_names['name']\n",
    "cv = CountVectorizer()\n",
    "X = cv.fit_transform(Xfeatures.values.astype('U'))\n",
    "X.shape\n",
    "gender_vectorizer = open(\"GenderClassificationVectorizer.pkl\", \"wb\")\n",
    "joblib.dump(cv, gender_vectorizer)\n",
    "gender_vectorizer.close()\n",
    "cv.get_feature_names_out()\n",
    "y=df_names[\"gender\"]"
   ]
  },
  {
   "cell_type": "markdown",
   "metadata": {},
   "source": [
    "##### Train and save the model "
   ]
  },
  {
   "cell_type": "code",
   "execution_count": 13,
   "metadata": {},
   "outputs": [
    {
     "name": "stdout",
     "output_type": "stream",
     "text": [
      "Model trained and saved as GenderClassificationModel.pkl\n"
     ]
    }
   ],
   "source": [
    "X_train, X_test, y_train, y_test = train_test_split(X, y, test_size=0.2, random_state=42)\n",
    "clf = MultinomialNB()\n",
    "clf.fit(X_train, y_train)\n",
    "clf.score(X_test, y_test)\n",
    "model_file = \"GenderClassificationModel.pkl\"\n",
    "joblib.dump(clf, model_file)\n",
    "gender_vectorizer.close()\n",
    "print(f\"Model trained and saved as {model_file}\")"
   ]
  },
  {
   "cell_type": "markdown",
   "metadata": {},
   "source": [
    "### Running Code"
   ]
  },
  {
   "cell_type": "markdown",
   "metadata": {},
   "source": [
    "##### Load model and vector"
   ]
  },
  {
   "cell_type": "code",
   "execution_count": 14,
   "metadata": {},
   "outputs": [],
   "source": [
    "import joblib\n",
    "model_file = \"GenderClassificationModel.pkl\"\n",
    "with open(model_file, \"rb\") as model_file:\n",
    "    loaded_model = joblib.load(model_file)\n",
    "with open(\"GenderClassificationVectorizer.pkl\", \"rb\") as vectorizer_file:\n",
    "    loaded_vectorizer = joblib.load(vectorizer_file)"
   ]
  },
  {
   "cell_type": "markdown",
   "metadata": {},
   "source": [
    "##### Run Inference"
   ]
  },
  {
   "cell_type": "code",
   "execution_count": 19,
   "metadata": {},
   "outputs": [
    {
     "name": "stdout",
     "output_type": "stream",
     "text": [
      "Female\n"
     ]
    }
   ],
   "source": [
    "sample_names = [\"pratiwi\"]\n",
    "vect = loaded_vectorizer.transform(sample_names).toarray()\n",
    "prediction = loaded_model.predict(vect)[0]\n",
    "print(\"Male\" if prediction == 1 else \"Female\")"
   ]
  }
 ],
 "metadata": {
  "kernelspec": {
   "display_name": "sindhu-env",
   "language": "python",
   "name": "python3"
  },
  "language_info": {
   "codemirror_mode": {
    "name": "ipython",
    "version": 3
   },
   "file_extension": ".py",
   "mimetype": "text/x-python",
   "name": "python",
   "nbconvert_exporter": "python",
   "pygments_lexer": "ipython3",
   "version": "3.12.2"
  }
 },
 "nbformat": 4,
 "nbformat_minor": 2
}
